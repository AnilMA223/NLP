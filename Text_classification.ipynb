{
  "nbformat": 4,
  "nbformat_minor": 0,
  "metadata": {
    "colab": {
      "name": "Text_classification.ipynb",
      "provenance": [],
      "authorship_tag": "ABX9TyM/eHJgoC2xfoGQUcySC3Xs",
      "include_colab_link": true
    },
    "kernelspec": {
      "name": "python3",
      "display_name": "Python 3"
    },
    "accelerator": "GPU"
  },
  "cells": [
    {
      "cell_type": "markdown",
      "metadata": {
        "id": "view-in-github",
        "colab_type": "text"
      },
      "source": [
        "<a href=\"https://colab.research.google.com/github/Neel7317/NLP/blob/main/Text_classification.ipynb\" target=\"_parent\"><img src=\"https://colab.research.google.com/assets/colab-badge.svg\" alt=\"Open In Colab\"/></a>"
      ]
    },
    {
      "cell_type": "code",
      "metadata": {
        "id": "yzb_P45pcRW_"
      },
      "source": [
        "\r\n",
        "from __future__ import absolute_import, division, print_function, unicode_literals\r\n",
        "import tensorflow as tf\r\n",
        "\r\n",
        "import os\r\n",
        "import datetime\r\n",
        "import tensorflow_hub as hub\r\n",
        "import numpy as np\r\n",
        "    \r\n",
        "import pandas as pd\r\n",
        "from sklearn.model_selection import train_test_split"
      ],
      "execution_count": 52,
      "outputs": []
    },
    {
      "cell_type": "code",
      "metadata": {
        "id": "f2GxtfF2YPsp"
      },
      "source": [
        "df=pd.read_csv('https://github.com/srivatsan88/YouTubeLI/blob/master/dataset/consumer_compliants.zip?raw=true', compression='zip', sep=',', quotechar='\"')"
      ],
      "execution_count": 53,
      "outputs": []
    },
    {
      "cell_type": "code",
      "metadata": {
        "colab": {
          "base_uri": "https://localhost:8080/",
          "height": 618
        },
        "id": "IOUo0iUGaKaz",
        "outputId": "ba760ca7-b7aa-4f96-c73f-fb48f93c4b32"
      },
      "source": [
        "df.head()"
      ],
      "execution_count": 60,
      "outputs": [
        {
          "output_type": "execute_result",
          "data": {
            "text/html": [
              "<div>\n",
              "<style scoped>\n",
              "    .dataframe tbody tr th:only-of-type {\n",
              "        vertical-align: middle;\n",
              "    }\n",
              "\n",
              "    .dataframe tbody tr th {\n",
              "        vertical-align: top;\n",
              "    }\n",
              "\n",
              "    .dataframe thead th {\n",
              "        text-align: right;\n",
              "    }\n",
              "</style>\n",
              "<table border=\"1\" class=\"dataframe\">\n",
              "  <thead>\n",
              "    <tr style=\"text-align: right;\">\n",
              "      <th></th>\n",
              "      <th>Date received</th>\n",
              "      <th>Product</th>\n",
              "      <th>Sub-product</th>\n",
              "      <th>Issue</th>\n",
              "      <th>Sub-issue</th>\n",
              "      <th>Consumer complaint narrative</th>\n",
              "      <th>Company public response</th>\n",
              "      <th>Company</th>\n",
              "      <th>State</th>\n",
              "      <th>ZIP code</th>\n",
              "      <th>Tags</th>\n",
              "      <th>Consumer consent provided?</th>\n",
              "      <th>Submitted via</th>\n",
              "      <th>Date sent to company</th>\n",
              "      <th>Company response to consumer</th>\n",
              "      <th>Timely response?</th>\n",
              "      <th>Consumer disputed?</th>\n",
              "      <th>Complaint ID</th>\n",
              "    </tr>\n",
              "  </thead>\n",
              "  <tbody>\n",
              "    <tr>\n",
              "      <th>0</th>\n",
              "      <td>4/3/2020</td>\n",
              "      <td>Vehicle loan or lease</td>\n",
              "      <td>Loan</td>\n",
              "      <td>Getting a loan or lease</td>\n",
              "      <td>Fraudulent loan</td>\n",
              "      <td>This auto loan was opened on XX/XX/2020 in XXX...</td>\n",
              "      <td>Company has responded to the consumer and the ...</td>\n",
              "      <td>TRUIST FINANCIAL CORPORATION</td>\n",
              "      <td>PA</td>\n",
              "      <td>None</td>\n",
              "      <td>None</td>\n",
              "      <td>Consent provided</td>\n",
              "      <td>Web</td>\n",
              "      <td>4/3/2020</td>\n",
              "      <td>Closed with explanation</td>\n",
              "      <td>Yes</td>\n",
              "      <td>NaN</td>\n",
              "      <td>3591341</td>\n",
              "    </tr>\n",
              "    <tr>\n",
              "      <th>1</th>\n",
              "      <td>3/12/2020</td>\n",
              "      <td>Debt collection</td>\n",
              "      <td>Payday loan debt</td>\n",
              "      <td>Attempts to collect debt not owed</td>\n",
              "      <td>Debt is not yours</td>\n",
              "      <td>In XXXX of 2019 I noticed a debt for {$620.00}...</td>\n",
              "      <td>None</td>\n",
              "      <td>CURO Intermediate Holdings</td>\n",
              "      <td>CO</td>\n",
              "      <td>806XX</td>\n",
              "      <td>None</td>\n",
              "      <td>Consent provided</td>\n",
              "      <td>Web</td>\n",
              "      <td>3/12/2020</td>\n",
              "      <td>Closed with explanation</td>\n",
              "      <td>Yes</td>\n",
              "      <td>NaN</td>\n",
              "      <td>3564184</td>\n",
              "    </tr>\n",
              "    <tr>\n",
              "      <th>2</th>\n",
              "      <td>2/6/2020</td>\n",
              "      <td>Vehicle loan or lease</td>\n",
              "      <td>Loan</td>\n",
              "      <td>Getting a loan or lease</td>\n",
              "      <td>Credit denial</td>\n",
              "      <td>As stated from Capital One, XXXX XX/XX/XXXX an...</td>\n",
              "      <td>None</td>\n",
              "      <td>CAPITAL ONE FINANCIAL CORPORATION</td>\n",
              "      <td>OH</td>\n",
              "      <td>430XX</td>\n",
              "      <td>None</td>\n",
              "      <td>Consent provided</td>\n",
              "      <td>Web</td>\n",
              "      <td>2/6/2020</td>\n",
              "      <td>Closed with explanation</td>\n",
              "      <td>Yes</td>\n",
              "      <td>NaN</td>\n",
              "      <td>3521949</td>\n",
              "    </tr>\n",
              "    <tr>\n",
              "      <th>3</th>\n",
              "      <td>3/6/2020</td>\n",
              "      <td>Checking or savings account</td>\n",
              "      <td>Savings account</td>\n",
              "      <td>Managing an account</td>\n",
              "      <td>Banking errors</td>\n",
              "      <td>Please see CFPB case XXXX. \\n\\nCapital One, in...</td>\n",
              "      <td>None</td>\n",
              "      <td>CAPITAL ONE FINANCIAL CORPORATION</td>\n",
              "      <td>CA</td>\n",
              "      <td>None</td>\n",
              "      <td>None</td>\n",
              "      <td>Consent provided</td>\n",
              "      <td>Web</td>\n",
              "      <td>3/6/2020</td>\n",
              "      <td>Closed with explanation</td>\n",
              "      <td>Yes</td>\n",
              "      <td>NaN</td>\n",
              "      <td>3556237</td>\n",
              "    </tr>\n",
              "    <tr>\n",
              "      <th>4</th>\n",
              "      <td>2/14/2020</td>\n",
              "      <td>Debt collection</td>\n",
              "      <td>Medical debt</td>\n",
              "      <td>Attempts to collect debt not owed</td>\n",
              "      <td>Debt is not yours</td>\n",
              "      <td>This debt was incurred due to medical malpract...</td>\n",
              "      <td>Company believes it acted appropriately as aut...</td>\n",
              "      <td>Merchants and Professional Bureau, Inc.</td>\n",
              "      <td>OH</td>\n",
              "      <td>432XX</td>\n",
              "      <td>None</td>\n",
              "      <td>Consent provided</td>\n",
              "      <td>Web</td>\n",
              "      <td>2/14/2020</td>\n",
              "      <td>Closed with explanation</td>\n",
              "      <td>Yes</td>\n",
              "      <td>NaN</td>\n",
              "      <td>3531704</td>\n",
              "    </tr>\n",
              "  </tbody>\n",
              "</table>\n",
              "</div>"
            ],
            "text/plain": [
              "  Date received                      Product  ... Consumer disputed? Complaint ID\n",
              "0      4/3/2020        Vehicle loan or lease  ...                NaN      3591341\n",
              "1     3/12/2020              Debt collection  ...                NaN      3564184\n",
              "2      2/6/2020        Vehicle loan or lease  ...                NaN      3521949\n",
              "3      3/6/2020  Checking or savings account  ...                NaN      3556237\n",
              "4     2/14/2020              Debt collection  ...                NaN      3531704\n",
              "\n",
              "[5 rows x 18 columns]"
            ]
          },
          "metadata": {
            "tags": []
          },
          "execution_count": 60
        }
      ]
    },
    {
      "cell_type": "code",
      "metadata": {
        "id": "ZLjDm3l6YV3U",
        "colab": {
          "base_uri": "https://localhost:8080/"
        },
        "outputId": "6125d110-bf9b-4402-b083-d7c10d23609b"
      },
      "source": [
        "df.columns"
      ],
      "execution_count": 54,
      "outputs": [
        {
          "output_type": "execute_result",
          "data": {
            "text/plain": [
              "Index(['Date received', 'Product', 'Sub-product', 'Issue', 'Sub-issue',\n",
              "       'Consumer complaint narrative', 'Company public response', 'Company',\n",
              "       'State', 'ZIP code', 'Tags', 'Consumer consent provided?',\n",
              "       'Submitted via', 'Date sent to company', 'Company response to consumer',\n",
              "       'Timely response?', 'Consumer disputed?', 'Complaint ID'],\n",
              "      dtype='object')"
            ]
          },
          "metadata": {
            "tags": []
          },
          "execution_count": 54
        }
      ]
    },
    {
      "cell_type": "code",
      "metadata": {
        "id": "52qDEAxRZtm0"
      },
      "source": [
        "X_train, X_test = train_test_split(df, test_size=0.2, random_state=111)"
      ],
      "execution_count": 55,
      "outputs": []
    },
    {
      "cell_type": "code",
      "metadata": {
        "colab": {
          "base_uri": "https://localhost:8080/"
        },
        "id": "7oh0RZL3Z2xr",
        "outputId": "5904c8ca-e42a-4adb-adfe-001daeb28ee5"
      },
      "source": [
        "df['Product'].value_counts()"
      ],
      "execution_count": 57,
      "outputs": [
        {
          "output_type": "execute_result",
          "data": {
            "text/plain": [
              "Debt collection                21772\n",
              "Credit card or prepaid card    13193\n",
              "Mortgage                        9799\n",
              "Checking or savings account     7003\n",
              "Student loan                    2950\n",
              "Vehicle loan or lease           2736\n",
              "Name: Product, dtype: int64"
            ]
          },
          "metadata": {
            "tags": []
          },
          "execution_count": 57
        }
      ]
    },
    {
      "cell_type": "code",
      "metadata": {
        "id": "AzYf4UGFZ6uC"
      },
      "source": [
        "from sklearn.utils import class_weight\r\n",
        "class_weights = list(class_weight.compute_class_weight('balanced',\r\n",
        "                                             np.unique(df['Product']),\r\n",
        "                                             df['Product']))"
      ],
      "execution_count": 58,
      "outputs": []
    },
    {
      "cell_type": "code",
      "metadata": {
        "id": "iBTVm03PaDAD"
      },
      "source": [
        "class_weights.sort()"
      ],
      "execution_count": 59,
      "outputs": []
    },
    {
      "cell_type": "code",
      "metadata": {
        "colab": {
          "base_uri": "https://localhost:8080/"
        },
        "id": "3fS_EqwkaQvF",
        "outputId": "f603fd2f-8ca9-4f9c-bd63-1636ae044837"
      },
      "source": [
        "class_weights"
      ],
      "execution_count": 62,
      "outputs": [
        {
          "output_type": "execute_result",
          "data": {
            "text/plain": [
              "[0.43980801028844385,\n",
              " 0.7258015614340938,\n",
              " 0.9771915501581794,\n",
              " 1.3673425674710837,\n",
              " 3.2459322033898306,\n",
              " 3.4998172514619883]"
            ]
          },
          "metadata": {
            "tags": []
          },
          "execution_count": 62
        }
      ]
    },
    {
      "cell_type": "code",
      "metadata": {
        "id": "ZtgGJCb_aSxi"
      },
      "source": [
        "weights={}"
      ],
      "execution_count": 63,
      "outputs": []
    },
    {
      "cell_type": "code",
      "metadata": {
        "id": "7RMy6dtvaXlt"
      },
      "source": [
        "for index, weight in enumerate(class_weights) :\r\n",
        "  weights[index]=weight"
      ],
      "execution_count": 64,
      "outputs": []
    },
    {
      "cell_type": "code",
      "metadata": {
        "colab": {
          "base_uri": "https://localhost:8080/"
        },
        "id": "kqNiCdSwaaeq",
        "outputId": "d854e6d4-4fd2-4695-d560-396135d7f87e"
      },
      "source": [
        "weights"
      ],
      "execution_count": 65,
      "outputs": [
        {
          "output_type": "execute_result",
          "data": {
            "text/plain": [
              "{0: 0.43980801028844385,\n",
              " 1: 0.7258015614340938,\n",
              " 2: 0.9771915501581794,\n",
              " 3: 1.3673425674710837,\n",
              " 4: 3.2459322033898306,\n",
              " 5: 3.4998172514619883}"
            ]
          },
          "metadata": {
            "tags": []
          },
          "execution_count": 65
        }
      ]
    },
    {
      "cell_type": "code",
      "metadata": {
        "id": "dw5R6CoIae_u"
      },
      "source": [
        "dataset_train = tf.data.Dataset.from_tensor_slices((X_train['Consumer complaint narrative'].values, X_train['Product'].values))\r\n",
        "dataset_test = tf.data.Dataset.from_tensor_slices((X_test['Consumer complaint narrative'].values, X_test['Product'].values))"
      ],
      "execution_count": 66,
      "outputs": []
    },
    {
      "cell_type": "code",
      "metadata": {
        "colab": {
          "base_uri": "https://localhost:8080/"
        },
        "id": "tMpCod8iaicz",
        "outputId": "18aea067-4462-4ff0-bf85-4cfdf4098d15"
      },
      "source": [
        "for text, target in dataset_train.take(5):\r\n",
        "  print ('Complaint: {}, Target: {}'.format(text, target))"
      ],
      "execution_count": 67,
      "outputs": [
        {
          "output_type": "stream",
          "text": [
            "Complaint: b\"The below complaint was submitted to the CFPB numerous times prior, the Wells Fargo rep, XXXX XXXX, replies with the same general form response stating numerous attempts at resolution have been made and exhausted which is a lie. He also attempts to state he can not comment due to past litigation which is also a lie, he reverts to this reply so as to avoid detailing any supposed attempt at resolution which he can not as there is none. Further, he should be aware of resolution which is to refund fees totaling {$610.00} and has not done so, no refund received to date. Please see complaint below. The below complaint was submitted prior, a duplicate form response received from XXXX XXXX with Wells Fargo, one of several. Based on this, my complaint was not addressed. Further, a reply in XXXX was never received as was mentioned. XXXX replied by stating numerous attempts at resolution have been made but has not detailed one, there was no contact from anyone at Wells Fargo aside from XXXX XXXX whom offered a bogus settlement offer. Wells Fargo failed to honor this settlement offer made to me in XXXX by XXXX XXXX, a rep with Wells Fargo. The offer amount, {$3700.00}, was never received and it is now XXXX. Prior to this, I requested a refund in the amount of {$610.00} which includes mainly overdraft fees charged to accounts not authorized. A total of four mediation request forms were sent in, XXXX XXXX contacted me, offered settlement amount in XXXX, no payment received to date.. Since no payment was received in re, additional CFPB complaints were filed. XXXX replied most recently stating numerous attempts at resolution were made, which is a lie and seems to provide the same general form response to each and every complaint. I can assure the CPFB there were no such attempts and Wells Fargo is fully aware of resolution which has been detailed numerous times. I will reiterate again here, refund of {$610.00} will resolve matter since no settlement payment was received. I have contacted the XXXX XXXX XXXX Attorney as per instructions from a XXXX, a rep with class counsel for Wells Fargo Settlement. XXXX informed me Wells Fargo is involved in at least three class actions, XXXX Settlement, WF Settlement, also a settlement with all 50 states, the Attorney General of each state.. I have also contacted Attorney General here in Connecticut as well as California, advised them of my situation. I suspect XXXX will provide the same carbon copy reply in which case I can assure any third party Wells Fargo claims of attempts at resolution are 100 % false and bogus, he has not detailed one such attempt. Most recently as of, XX/XX/30, I spoke with XXXX XXXX in their Executive Office, she could not find any cases under my name despite numerous CFPB complaints filed as well as OCC, ( Office Of Comptroller Currency ). It appears Wells Fargo has not looked into this matter, evident in the fact they have not opened any cases in re. Another mediation request form was received recently, I've filed out a total of four of these forms, sent them in, was denied mediation. Complaints marked as unable to respond directly or due to litigation will be resubmitted\", Target: b'Checking or savings account'\n",
            "Complaint: b'The following items were all placed on my credit report at the same time. Phoenix Financial Services called and threatened to ruin by credit by placing the same item in collection multiple times. There should be only one ( 1 ) item, not four as submitted by Phoenix Financial Services. There is also an error in the Opened date. This one medical debt is several years old. I did not go to the doctor XX/XX/2019. I do not think Collection Agencies should be able to deliberately place multiple items on your credit in an effort to threaten me into paying. Can you please help me. My credit score dropped 24 points due to the four ( 4 ) Collection items added erroneously by Phoenix Financial Services. \\n\\nXXXX XXXX XXXX Phoenix Financial Servic Opened XX/XX/2019 {$1200.00} Original creditor : XXXX XXXX XXXX XXXX XXXX XXXX Phoenix Financial Servic Opened XX/XX/2019 {$1200.00} Original creditor : XXXXXXXX XXXX XXXX XXXX XXXX XXXX Phoenix Financial Servic Opened XX/XX/2019 {$1200.00} Original creditor : XXXX XXXX XXXX XXXX XXXX XXXX Phoenix Financial Servic Opened XX/XX/2019 {$1200.00} Original creditor : XXXX XXXX XXXX XXXX XXXX XXXX', Target: b'Debt collection'\n",
            "Complaint: b'Credit Management Lp. Did not contact about a debit that they received from XXXX XXXX XXXX. They did not follow Fair Debt Collection Practices Act and Consumer Credit Protection Act.', Target: b'Debt collection'\n",
            "Complaint: b'My husband and I visited XXXX for vacation from XX/XX/XXXX through XX/XX/XXXX. We have no family, friends, nor business connections in the country - we were simply there to visit a new place and experience a new culture. Except for one elegant XXXX XXXX XXXX   dinner ( {$200.00} USD ) and a cash advance to take out Euros ( {$250.00} USD ), all of our purchases were below {$70.00} USD. \\n\\nOn our final day in XXXX, XX/XX/XXXX, we were eating lunch at a restaurant and I planned to pay with my Chase Sapphire card. The waiter said there was a problem with the wireless internet and took my Chase Sapphire card inside the restaurant ( we were seated outside on the patio ). He was in possession of my Chase Sapphire care for approximately 10 minutes outside of my supervision. He returned and claimed the internet was down and said we could pay in USD or go get Euros from a specific ATM that he directed us to in the back of a neighboring store. I opted to go to the ATM and get Euros in order to pay for our lunch because we were worried we would get scammed on the exchange rate he would try and offer us if we paid in USD. \\n\\nAfter resolving the issue at the restaurant and returning home within the next couple of days, I noticed a fraudulent charge for {$5500.00} on my Chase Sapphire card and another attempted charge for about the same amount that was declined by Chase. The statement showed that the fraudulent charge was made at XXXX XXXX, and after some research online I found this to be a marble gravestone/tomb manufacturing business. The charge was made on XX/XX/XXXX, it posted to my account on XX/XX/XXXX, and I noticed the charge on XX/XX/XXXX and immediately called Chase to dispute the charge. My mind immediately jumped to the situation with the restaurant ( see above ) when the card was out of my possession for about 10 minutes and I was directed to use a specific ATM. I relayed these same facts during my dispute claim and answered all questions and provided all details they asked for, and then I waited to hear back from Chase with a resolution. In addition to disputing the fraudulent charge with Chase, I also tracked down an email for the vendor where the fraudulent charge was made, XXXX XXXX, and emailed them on multiple occasions ( XX/XX/XXXX and XX/XX/XXXX ) to explain the situation and request a refund for the fraudulent charge. I also submitted the same inquiry and request on the \" messages \\'\\' portion of their website on XX/XX/XXXX. I haven\\'t heard any response from the business as of XX/XX/XXXX. Due to their lack of response, I also left a negative, public review of the business on XXXX explaining their lack of response to my inquiries about the fraudulent charge in hopes of deterring any potential REAL customers of using their services in the future. \\n\\nOn XX/XX/XXXX, I finally received a letter from Chase saying that my fraud claim had been denied because they deemed that I had received a benefit from the fraudulent charge. I immediately started the appeal process by calling Chase. After waiting on hold for 3 hours, I was told to send an email with my credit card number and full name to XXXX in order to file an appeal. Despite my security concerns of sending my credit card number via email, I felt I had no other options and on XX/XX/XXXX, I sent an email to XXXX with my name and credit card number and requested to start the appeal process. I also requested the following information : a copy of the receipt of this fraudulent charge ( {$5500.00} on XX/XX/XXXX ) and/or all relevant information ( time, date, address, swipe/chip/punch in numbers, etc. ), a copy of the receipts of all other charges made on XX/XX/XXXX on this account and/or all relevant information ( time, date, address, swipe/chip/punch in numbers, etc. ), and a copy of the report that includes a. ) all information that I provided to Chase about this fraudulent charge and b. ) an explanation of exactly why it was denied and deemed that I received a benefit. \\n\\nAfter not hearing back from Chase, I sent another email to XXXX on XX/XX/XXXX to confirm that my appeal request had been received and to request a phone call or email to confirm that it had been received and let me know that the appeal was in process. \\n\\nI received a phone call from Chase \\'s fraud dispute review department on XX/XX/XXXX confirming that my appeal request had been received. The representative who I talked with told me that he believed my claim was indeed fraudulent and relayed that he didn\\'t believe the fraud department looked at the claim closely enough. He said that they never requested a receipt from the vendor ( XXXX XXXX ) to compare the signature with other receipts on file and he also shared that there were two successive charges in two  different counties in XXXX that they didn\\'t take into account when reviewing it because I couldn\\'t possibly be in two places at once. I also continued to request to see the receipt for the fraudulent charge, receipts for all other charges on XX/XX/XXXX, and the report that detailed the denial of the fraudulent claim. As of XX/XX/XXXX, Chase refuses to send me this information about my fraudulent charge claim, and I believe I have a right to see this as a Chase customer. \\n\\nOn XX/XX/XXXX, I received notice that my appeal of my fraudulent charge dispute had been denied, meaning that Chase is holding me responsible to pay the {$5500.00} fraudulent charge. It is at this point that I am filing a complaint with the CFPB.', Target: b'Credit card or prepaid card'\n",
            "Complaint: b'I deposited a client check in the amount of {$10000.00} and funds were transferred from XXXX XXXX  to Wells Fargo on XX/XX/XXXX. Wells Fargo has put a hold on the funds until XX/XX/XXXX. They have given me a range of excuses such as there were not sufficient funds in the payees account to a suspicious signature. I have asked Wells Fargo to contact the XXXX XXXX   employee that handles the account and XXXX XXXX continues to refuse to release the funds to my account. This appears to be yet another Wells Fargo scam. They are holding my funds and earning interest from XX/XX/XXXX to XX/XX/XXXX. I have full documentation.', Target: b'Checking or savings account'\n"
          ],
          "name": "stdout"
        }
      ]
    },
    {
      "cell_type": "code",
      "metadata": {
        "colab": {
          "base_uri": "https://localhost:8080/"
        },
        "id": "1ySFwUWuar5l",
        "outputId": "31c76e0b-1356-448e-8e77-8ded5f5e16a2"
      },
      "source": [
        "for text, target in dataset_test.take(5):\r\n",
        "  print ('Complaint: {}, Target: {}'.format(text, target))"
      ],
      "execution_count": 68,
      "outputs": [
        {
          "output_type": "stream",
          "text": [
            "Complaint: b'I have a business checking account at BB & T. On XX/XX/2019, I attempted to deposit a check into my account and I received a message stating that I was over my monthly mobile deposit limit. I was confused because it was the first of the month and I had not deposited any checks since the previous month. I called BB & T and they said that I couldnt deposit checks into business accounts via the mobile app even though I had done that before. \\n\\nI was instructed to open a personal account, into which I could deposit checks via the mobile app. I was told that if I opened the account online I would have immediate access, that I could link my personal and business accounts, and immediately be able to transfer money between them. \\n\\nOn XX/XX/XXXX, I opened my personal account online. Though I successfully opened online, I did not have online access as I had been promised. Because I was traveling in an area where there were no BB & T branches, I could not go into a branch until XX/XX/2019. In the intervening time, my business account became overdrawn. I had the money in my personal account to bring it back into the black, but BB & T could not make the transfer until I went into a branch. During this time, I incurred an astonishing {$320.00} in overdraft fees in my business account because I had no way of transferring money between the two accounts. \\n\\nWhen I went into the branch, I met with XXXX XXXX in XXXX XXXX County, Florida. She investigated the accounts and told me she would link them and that I would have online access in XXXX hours. The online access still never material, I was not able to transfer money and I received an additional {$36.00} overdraft fee. This brought the total to {$360.00} in overdraft fees. \\n\\nI had only opened the second account on BB & Ts advice ; I could have had my customer send a bank wire directly into business account in the first week of XXXX to keep the account positive. My TOTAL deposits between the two accounts was always positive. \\n\\nI requested a refund and was told they would not refund any of the fees.', Target: b'Checking or savings account'\n",
            "Complaint: b'To who it may concern, My concern is regarding Shellpoint Mortgage Servicing Company. This company has received my monthly mortgage payments and have failed to account it as payments received. My bank has sent me proof the account was cleared and paid. This company is trying to foreclosed on my house and has sent me a letter indicating they sent my file to their Loss Mitigation dept. The person who they assigned it to is XXXX XXXX XXXX x XXXX. Their corporate number is XXXX. \\n\\nI have can send proof of my claim from above should you need it. Please assist.', Target: b'Mortgage'\n",
            "Complaint: b'I contacted XXXX about fraudulent charges that were made on my account and the customer service representative told me that they wouldnt be able to issue anew card or remove my fraudulent charges since the account was closed due to non-payment. I was unaware of this these charging that were made.. To my knowledge I didnt owe a payment because the account wasnt being used.', Target: b'Credit card or prepaid card'\n",
            "Complaint: b'I first applied for the Fedloan Serving program in XXXX in hopes of getting loan forgiveness since I\\'ve been paying on my student loans since late XXXX or early XXXX and I have been a public servant since XXXX, XXXX. I have never missed a payment to any of the various loan companies that owned my loans. The Fedloan Program turned me down in XXXX, saying my loans, which were originally Federal Stafford Loans, did not qualify me for the Program. In XXXX, XXXX, I was solicited by XXXX XXXX   and told I could get into this program to reduce my loan payments. I was charged {$690.00} by XXXX XXXX to get me into the Fedloan Serving program. My loan payments went down to $ XXXX/month for the first year. In XXXX, XXXX, Fedloan Servicing informed me via email that I needed to recertify my \" income-driven repayment plan. Their customer service helped me submit the form XXXX XXXX ) via the internet and it involved the IRS. For reasons I don\\'t understand, Fedloan is now increasing my monthly payments to {$380.00}, effective XX/XX/XXXX. This is a 60 % increase. On XX/XX/XXXX, I called Fedloan regarding this issue. The customer service person suggested I ask for a recalculation and provide pay-stubs rather than IRS information. On the same call, I was transferred to a second agent who listened to my concern and suggested I get out of the Fedloan Program since I really didn\\'t qualify for it anyway and I could save money by going to a regular payment plan with a different servicer such as XXXX which had serviced my loan previously. I feel like I\\'ve been miss-lead by the Fedloan Serving Program and by Mr. XXXX XXXX, the case manager at XXXX XXXX ( http : //www.nexum-servicing.com ). After receiving my {$690.00}, I was never able to talk to XXXX on the phone again. He had convinced me I could save money with Fedloan and he told me my payments would go down to {$0.00} when I retire from State Service in XXXX. He told me I would receive loan forgiveness once my payments went to {$0.00}. I have concluded his advise was incorrect and or miss-leading. I regret having my loan transferred to the Fedloan Program because its representatives have indicated I will not receive loan forgiveness for my 20 years of public service. I am very concerned about the cost of my student loan debt, especially since I intend to retire from State service in XXXX. I am also concerned about how I will be able to afford these student loan payments once I am receiving a pension. I am also very disappointed that I haven\\'t been able to \" qualify \\'\\' for loan forgiveness based on my long years of public service. I think this whole Fedloan Program is complete scam and I have been duped.', Target: b'Student loan'\n",
            "Complaint: b'On several occasions ( XXXX ) I have tried to reach someone in costumer service today XX/XX/2020 I tried again to get through and was on hold for over 20 minutes and hung up. \\n\\n3 Years ago I have made no more than {$600.00} in purchases, and while making payments on my account with a {$9000.00} limit the interest charges are deducted from the credit limit and the interest was based on the balance each month. this left my interest and charge fess higher than my monthly payment which amounted to around {$240.00} each month. \\n\\nIn all of this time the interest was so big that it completely eat up the limit balance on the card, which left in me in a vicious cycle of never paying down the money owed. with in 2 years I was able to get the balance down {$2000.00} and I asked Walmart Capital One to reduce the balance down. Now it is back up to the high bank fees and interest charges that have again gone beyond what I can afford monthly the {$240.00}. This is a unfair and infantile game that is forced on me as an consumer.', Target: b'Credit card or prepaid card'\n"
          ],
          "name": "stdout"
        }
      ]
    },
    {
      "cell_type": "code",
      "metadata": {
        "id": "0PZT-Ynlaw_5"
      },
      "source": [
        "table = tf.lookup.StaticHashTable(\r\n",
        "    initializer=tf.lookup.KeyValueTensorInitializer(\r\n",
        "        keys=tf.constant(['Debt collection', 'Credit card or prepaid card', 'Mortgage', 'Checking or savings account', 'Student loan', 'Vehicle loan or lease']),\r\n",
        "        values=tf.constant([0, 1, 2, 3, 4, 5]),\r\n",
        "    ),\r\n",
        "    default_value=tf.constant(-1),\r\n",
        "    name=\"target_encoding\"\r\n",
        ")\r\n",
        "\r\n",
        "@tf.function\r\n",
        "def target(x):\r\n",
        "  return table.lookup(x)"
      ],
      "execution_count": 69,
      "outputs": []
    },
    {
      "cell_type": "code",
      "metadata": {
        "id": "E_IehP6Pa8ge"
      },
      "source": [
        "def show_batch(dataset, size=5):\r\n",
        "  for batch, label in dataset.take(size):\r\n",
        "      print(batch.numpy())\r\n",
        "      print(target(label).numpy())"
      ],
      "execution_count": 70,
      "outputs": []
    },
    {
      "cell_type": "code",
      "metadata": {
        "colab": {
          "base_uri": "https://localhost:8080/"
        },
        "id": "Lt-nckgFbJbC",
        "outputId": "fbfcd03c-68af-440f-bc35-65b3357a2b02"
      },
      "source": [
        "show_batch(dataset_test,6)"
      ],
      "execution_count": 71,
      "outputs": [
        {
          "output_type": "stream",
          "text": [
            "b'I have a business checking account at BB & T. On XX/XX/2019, I attempted to deposit a check into my account and I received a message stating that I was over my monthly mobile deposit limit. I was confused because it was the first of the month and I had not deposited any checks since the previous month. I called BB & T and they said that I couldnt deposit checks into business accounts via the mobile app even though I had done that before. \\n\\nI was instructed to open a personal account, into which I could deposit checks via the mobile app. I was told that if I opened the account online I would have immediate access, that I could link my personal and business accounts, and immediately be able to transfer money between them. \\n\\nOn XX/XX/XXXX, I opened my personal account online. Though I successfully opened online, I did not have online access as I had been promised. Because I was traveling in an area where there were no BB & T branches, I could not go into a branch until XX/XX/2019. In the intervening time, my business account became overdrawn. I had the money in my personal account to bring it back into the black, but BB & T could not make the transfer until I went into a branch. During this time, I incurred an astonishing {$320.00} in overdraft fees in my business account because I had no way of transferring money between the two accounts. \\n\\nWhen I went into the branch, I met with XXXX XXXX in XXXX XXXX County, Florida. She investigated the accounts and told me she would link them and that I would have online access in XXXX hours. The online access still never material, I was not able to transfer money and I received an additional {$36.00} overdraft fee. This brought the total to {$360.00} in overdraft fees. \\n\\nI had only opened the second account on BB & Ts advice ; I could have had my customer send a bank wire directly into business account in the first week of XXXX to keep the account positive. My TOTAL deposits between the two accounts was always positive. \\n\\nI requested a refund and was told they would not refund any of the fees.'\n",
            "3\n",
            "b'To who it may concern, My concern is regarding Shellpoint Mortgage Servicing Company. This company has received my monthly mortgage payments and have failed to account it as payments received. My bank has sent me proof the account was cleared and paid. This company is trying to foreclosed on my house and has sent me a letter indicating they sent my file to their Loss Mitigation dept. The person who they assigned it to is XXXX XXXX XXXX x XXXX. Their corporate number is XXXX. \\n\\nI have can send proof of my claim from above should you need it. Please assist.'\n",
            "2\n",
            "b'I contacted XXXX about fraudulent charges that were made on my account and the customer service representative told me that they wouldnt be able to issue anew card or remove my fraudulent charges since the account was closed due to non-payment. I was unaware of this these charging that were made.. To my knowledge I didnt owe a payment because the account wasnt being used.'\n",
            "1\n",
            "b'I first applied for the Fedloan Serving program in XXXX in hopes of getting loan forgiveness since I\\'ve been paying on my student loans since late XXXX or early XXXX and I have been a public servant since XXXX, XXXX. I have never missed a payment to any of the various loan companies that owned my loans. The Fedloan Program turned me down in XXXX, saying my loans, which were originally Federal Stafford Loans, did not qualify me for the Program. In XXXX, XXXX, I was solicited by XXXX XXXX   and told I could get into this program to reduce my loan payments. I was charged {$690.00} by XXXX XXXX to get me into the Fedloan Serving program. My loan payments went down to $ XXXX/month for the first year. In XXXX, XXXX, Fedloan Servicing informed me via email that I needed to recertify my \" income-driven repayment plan. Their customer service helped me submit the form XXXX XXXX ) via the internet and it involved the IRS. For reasons I don\\'t understand, Fedloan is now increasing my monthly payments to {$380.00}, effective XX/XX/XXXX. This is a 60 % increase. On XX/XX/XXXX, I called Fedloan regarding this issue. The customer service person suggested I ask for a recalculation and provide pay-stubs rather than IRS information. On the same call, I was transferred to a second agent who listened to my concern and suggested I get out of the Fedloan Program since I really didn\\'t qualify for it anyway and I could save money by going to a regular payment plan with a different servicer such as XXXX which had serviced my loan previously. I feel like I\\'ve been miss-lead by the Fedloan Serving Program and by Mr. XXXX XXXX, the case manager at XXXX XXXX ( http : //www.nexum-servicing.com ). After receiving my {$690.00}, I was never able to talk to XXXX on the phone again. He had convinced me I could save money with Fedloan and he told me my payments would go down to {$0.00} when I retire from State Service in XXXX. He told me I would receive loan forgiveness once my payments went to {$0.00}. I have concluded his advise was incorrect and or miss-leading. I regret having my loan transferred to the Fedloan Program because its representatives have indicated I will not receive loan forgiveness for my 20 years of public service. I am very concerned about the cost of my student loan debt, especially since I intend to retire from State service in XXXX. I am also concerned about how I will be able to afford these student loan payments once I am receiving a pension. I am also very disappointed that I haven\\'t been able to \" qualify \\'\\' for loan forgiveness based on my long years of public service. I think this whole Fedloan Program is complete scam and I have been duped.'\n",
            "4\n",
            "b'On several occasions ( XXXX ) I have tried to reach someone in costumer service today XX/XX/2020 I tried again to get through and was on hold for over 20 minutes and hung up. \\n\\n3 Years ago I have made no more than {$600.00} in purchases, and while making payments on my account with a {$9000.00} limit the interest charges are deducted from the credit limit and the interest was based on the balance each month. this left my interest and charge fess higher than my monthly payment which amounted to around {$240.00} each month. \\n\\nIn all of this time the interest was so big that it completely eat up the limit balance on the card, which left in me in a vicious cycle of never paying down the money owed. with in 2 years I was able to get the balance down {$2000.00} and I asked Walmart Capital One to reduce the balance down. Now it is back up to the high bank fees and interest charges that have again gone beyond what I can afford monthly the {$240.00}. This is a unfair and infantile game that is forced on me as an consumer.'\n",
            "1\n",
            "b'Hi, If i am writing today, is to bring to your attention something that happened between myself and XXXX dealership of XXXX XXXX FL. \\n\\nOn XX/XX/2019, date of my end of lease experience, i headed out to the XXXX dealership of XXXX XXXX to return my vehicle and try to negotiate to buy or lease another vehicle. \\nAs soon as i walked in with my wife, we have been introduced to the salesman and the sales manager of this dealership. We then started to negotiate the return of our leased vehicle and asked the team there to please help us getting an interesting deal on another vehicle and explaining our difficult credit situation of my wife and myself. \\nThe leased car we were returning had a that time about {$2800.00} dollar amount of excess millage on the lease terms, and we were assured by the sales manager that by purchasing a new XXXX that day at the dealership that we will be able to negotiate that bill with the financial department of the company later on. Also, when you return a lease, you must pay a excess wear and use of the car but can be waived that fee again by purchasing a new vehicle. \\nAfter a couple of hours of negotiation and a lot of persuasion from the sales team who promised us a lot of benefits, we ended up returning the lease and purchasing a brand new XXXX vehicle. \\nDue to our bad credit history, we got a the new car financed with an APR of 8.39 %. \\n\\nA couple days following our purchase, me and my wife got very surprised about 2 things. \\n\\nFirst of all, as we both checked our credit on XXXX XXXX, we realized that the dealership submitted a lot of credit check to our accounts, not even telling us that will happen. This really affected both our credit history and score. Knowing our credit situation at the dealership, i really do believe that we got kind of scammed that time. \\n\\nSecond, after receiving the end of lease bill by mail, i have contacted the financial department like i was instructed by the sales manager at the dealership in order to discuss it, knowing that he promised me since i have bought a new XXXX vehicle. \\nover the phone with the financial consultant, i was very surprised to hear that nothing was possible, no negotiation on the total amount and no waiver for the excess wear as well, since that apparently we did not get the new car financed with the in-house XXXX financing agency. thing that nor the salesman, or the sales manager told us upon signing the new car purchasing contract. \\n\\ni really need your help in that matter, i really believe we got scammed by the XXXX team, pursuing us to buy a brand new XXXX vehicle in order to get all the benefits that we will never get at the end.'\n",
            "5\n"
          ],
          "name": "stdout"
        }
      ]
    },
    {
      "cell_type": "code",
      "metadata": {
        "id": "3GLdo-lzbOBc"
      },
      "source": [
        "def fetch(text, labels):\r\n",
        "  return text, tf.one_hot(target(labels),6)"
      ],
      "execution_count": 72,
      "outputs": []
    },
    {
      "cell_type": "code",
      "metadata": {
        "id": "VKmlg82ebRkx"
      },
      "source": [
        "train_data_f=dataset_train.map(fetch)\r\n",
        "test_data_f=dataset_test.map(fetch)"
      ],
      "execution_count": 73,
      "outputs": []
    },
    {
      "cell_type": "code",
      "metadata": {
        "colab": {
          "base_uri": "https://localhost:8080/"
        },
        "id": "1k00WInHbT3m",
        "outputId": "86f74088-f006-4d9c-d738-b319a8e31041"
      },
      "source": [
        "next(iter(train_data_f))"
      ],
      "execution_count": 74,
      "outputs": [
        {
          "output_type": "execute_result",
          "data": {
            "text/plain": [
              "(<tf.Tensor: shape=(), dtype=string, numpy=b\"The below complaint was submitted to the CFPB numerous times prior, the Wells Fargo rep, XXXX XXXX, replies with the same general form response stating numerous attempts at resolution have been made and exhausted which is a lie. He also attempts to state he can not comment due to past litigation which is also a lie, he reverts to this reply so as to avoid detailing any supposed attempt at resolution which he can not as there is none. Further, he should be aware of resolution which is to refund fees totaling {$610.00} and has not done so, no refund received to date. Please see complaint below. The below complaint was submitted prior, a duplicate form response received from XXXX XXXX with Wells Fargo, one of several. Based on this, my complaint was not addressed. Further, a reply in XXXX was never received as was mentioned. XXXX replied by stating numerous attempts at resolution have been made but has not detailed one, there was no contact from anyone at Wells Fargo aside from XXXX XXXX whom offered a bogus settlement offer. Wells Fargo failed to honor this settlement offer made to me in XXXX by XXXX XXXX, a rep with Wells Fargo. The offer amount, {$3700.00}, was never received and it is now XXXX. Prior to this, I requested a refund in the amount of {$610.00} which includes mainly overdraft fees charged to accounts not authorized. A total of four mediation request forms were sent in, XXXX XXXX contacted me, offered settlement amount in XXXX, no payment received to date.. Since no payment was received in re, additional CFPB complaints were filed. XXXX replied most recently stating numerous attempts at resolution were made, which is a lie and seems to provide the same general form response to each and every complaint. I can assure the CPFB there were no such attempts and Wells Fargo is fully aware of resolution which has been detailed numerous times. I will reiterate again here, refund of {$610.00} will resolve matter since no settlement payment was received. I have contacted the XXXX XXXX XXXX Attorney as per instructions from a XXXX, a rep with class counsel for Wells Fargo Settlement. XXXX informed me Wells Fargo is involved in at least three class actions, XXXX Settlement, WF Settlement, also a settlement with all 50 states, the Attorney General of each state.. I have also contacted Attorney General here in Connecticut as well as California, advised them of my situation. I suspect XXXX will provide the same carbon copy reply in which case I can assure any third party Wells Fargo claims of attempts at resolution are 100 % false and bogus, he has not detailed one such attempt. Most recently as of, XX/XX/30, I spoke with XXXX XXXX in their Executive Office, she could not find any cases under my name despite numerous CFPB complaints filed as well as OCC, ( Office Of Comptroller Currency ). It appears Wells Fargo has not looked into this matter, evident in the fact they have not opened any cases in re. Another mediation request form was received recently, I've filed out a total of four of these forms, sent them in, was denied mediation. Complaints marked as unable to respond directly or due to litigation will be resubmitted\">,\n",
              " <tf.Tensor: shape=(6,), dtype=float32, numpy=array([0., 0., 0., 1., 0., 0.], dtype=float32)>)"
            ]
          },
          "metadata": {
            "tags": []
          },
          "execution_count": 74
        }
      ]
    },
    {
      "cell_type": "code",
      "metadata": {
        "colab": {
          "base_uri": "https://localhost:8080/"
        },
        "id": "s-ENQVdhbZ0x",
        "outputId": "57d4fdea-20aa-41de-e6d0-04ecc823121b"
      },
      "source": [
        "train_data, train_labels = next(iter(train_data_f.batch(5)))\r\n",
        "train_data, train_labels"
      ],
      "execution_count": 75,
      "outputs": [
        {
          "output_type": "execute_result",
          "data": {
            "text/plain": [
              "(<tf.Tensor: shape=(5,), dtype=string, numpy=\n",
              " array([b\"The below complaint was submitted to the CFPB numerous times prior, the Wells Fargo rep, XXXX XXXX, replies with the same general form response stating numerous attempts at resolution have been made and exhausted which is a lie. He also attempts to state he can not comment due to past litigation which is also a lie, he reverts to this reply so as to avoid detailing any supposed attempt at resolution which he can not as there is none. Further, he should be aware of resolution which is to refund fees totaling {$610.00} and has not done so, no refund received to date. Please see complaint below. The below complaint was submitted prior, a duplicate form response received from XXXX XXXX with Wells Fargo, one of several. Based on this, my complaint was not addressed. Further, a reply in XXXX was never received as was mentioned. XXXX replied by stating numerous attempts at resolution have been made but has not detailed one, there was no contact from anyone at Wells Fargo aside from XXXX XXXX whom offered a bogus settlement offer. Wells Fargo failed to honor this settlement offer made to me in XXXX by XXXX XXXX, a rep with Wells Fargo. The offer amount, {$3700.00}, was never received and it is now XXXX. Prior to this, I requested a refund in the amount of {$610.00} which includes mainly overdraft fees charged to accounts not authorized. A total of four mediation request forms were sent in, XXXX XXXX contacted me, offered settlement amount in XXXX, no payment received to date.. Since no payment was received in re, additional CFPB complaints were filed. XXXX replied most recently stating numerous attempts at resolution were made, which is a lie and seems to provide the same general form response to each and every complaint. I can assure the CPFB there were no such attempts and Wells Fargo is fully aware of resolution which has been detailed numerous times. I will reiterate again here, refund of {$610.00} will resolve matter since no settlement payment was received. I have contacted the XXXX XXXX XXXX Attorney as per instructions from a XXXX, a rep with class counsel for Wells Fargo Settlement. XXXX informed me Wells Fargo is involved in at least three class actions, XXXX Settlement, WF Settlement, also a settlement with all 50 states, the Attorney General of each state.. I have also contacted Attorney General here in Connecticut as well as California, advised them of my situation. I suspect XXXX will provide the same carbon copy reply in which case I can assure any third party Wells Fargo claims of attempts at resolution are 100 % false and bogus, he has not detailed one such attempt. Most recently as of, XX/XX/30, I spoke with XXXX XXXX in their Executive Office, she could not find any cases under my name despite numerous CFPB complaints filed as well as OCC, ( Office Of Comptroller Currency ). It appears Wells Fargo has not looked into this matter, evident in the fact they have not opened any cases in re. Another mediation request form was received recently, I've filed out a total of four of these forms, sent them in, was denied mediation. Complaints marked as unable to respond directly or due to litigation will be resubmitted\",\n",
              "        b'The following items were all placed on my credit report at the same time. Phoenix Financial Services called and threatened to ruin by credit by placing the same item in collection multiple times. There should be only one ( 1 ) item, not four as submitted by Phoenix Financial Services. There is also an error in the Opened date. This one medical debt is several years old. I did not go to the doctor XX/XX/2019. I do not think Collection Agencies should be able to deliberately place multiple items on your credit in an effort to threaten me into paying. Can you please help me. My credit score dropped 24 points due to the four ( 4 ) Collection items added erroneously by Phoenix Financial Services. \\n\\nXXXX XXXX XXXX Phoenix Financial Servic Opened XX/XX/2019 {$1200.00} Original creditor : XXXX XXXX XXXX XXXX XXXX XXXX Phoenix Financial Servic Opened XX/XX/2019 {$1200.00} Original creditor : XXXXXXXX XXXX XXXX XXXX XXXX XXXX Phoenix Financial Servic Opened XX/XX/2019 {$1200.00} Original creditor : XXXX XXXX XXXX XXXX XXXX XXXX Phoenix Financial Servic Opened XX/XX/2019 {$1200.00} Original creditor : XXXX XXXX XXXX XXXX XXXX XXXX',\n",
              "        b'Credit Management Lp. Did not contact about a debit that they received from XXXX XXXX XXXX. They did not follow Fair Debt Collection Practices Act and Consumer Credit Protection Act.',\n",
              "        b'My husband and I visited XXXX for vacation from XX/XX/XXXX through XX/XX/XXXX. We have no family, friends, nor business connections in the country - we were simply there to visit a new place and experience a new culture. Except for one elegant XXXX XXXX XXXX   dinner ( {$200.00} USD ) and a cash advance to take out Euros ( {$250.00} USD ), all of our purchases were below {$70.00} USD. \\n\\nOn our final day in XXXX, XX/XX/XXXX, we were eating lunch at a restaurant and I planned to pay with my Chase Sapphire card. The waiter said there was a problem with the wireless internet and took my Chase Sapphire card inside the restaurant ( we were seated outside on the patio ). He was in possession of my Chase Sapphire care for approximately 10 minutes outside of my supervision. He returned and claimed the internet was down and said we could pay in USD or go get Euros from a specific ATM that he directed us to in the back of a neighboring store. I opted to go to the ATM and get Euros in order to pay for our lunch because we were worried we would get scammed on the exchange rate he would try and offer us if we paid in USD. \\n\\nAfter resolving the issue at the restaurant and returning home within the next couple of days, I noticed a fraudulent charge for {$5500.00} on my Chase Sapphire card and another attempted charge for about the same amount that was declined by Chase. The statement showed that the fraudulent charge was made at XXXX XXXX, and after some research online I found this to be a marble gravestone/tomb manufacturing business. The charge was made on XX/XX/XXXX, it posted to my account on XX/XX/XXXX, and I noticed the charge on XX/XX/XXXX and immediately called Chase to dispute the charge. My mind immediately jumped to the situation with the restaurant ( see above ) when the card was out of my possession for about 10 minutes and I was directed to use a specific ATM. I relayed these same facts during my dispute claim and answered all questions and provided all details they asked for, and then I waited to hear back from Chase with a resolution. In addition to disputing the fraudulent charge with Chase, I also tracked down an email for the vendor where the fraudulent charge was made, XXXX XXXX, and emailed them on multiple occasions ( XX/XX/XXXX and XX/XX/XXXX ) to explain the situation and request a refund for the fraudulent charge. I also submitted the same inquiry and request on the \" messages \\'\\' portion of their website on XX/XX/XXXX. I haven\\'t heard any response from the business as of XX/XX/XXXX. Due to their lack of response, I also left a negative, public review of the business on XXXX explaining their lack of response to my inquiries about the fraudulent charge in hopes of deterring any potential REAL customers of using their services in the future. \\n\\nOn XX/XX/XXXX, I finally received a letter from Chase saying that my fraud claim had been denied because they deemed that I had received a benefit from the fraudulent charge. I immediately started the appeal process by calling Chase. After waiting on hold for 3 hours, I was told to send an email with my credit card number and full name to XXXX in order to file an appeal. Despite my security concerns of sending my credit card number via email, I felt I had no other options and on XX/XX/XXXX, I sent an email to XXXX with my name and credit card number and requested to start the appeal process. I also requested the following information : a copy of the receipt of this fraudulent charge ( {$5500.00} on XX/XX/XXXX ) and/or all relevant information ( time, date, address, swipe/chip/punch in numbers, etc. ), a copy of the receipts of all other charges made on XX/XX/XXXX on this account and/or all relevant information ( time, date, address, swipe/chip/punch in numbers, etc. ), and a copy of the report that includes a. ) all information that I provided to Chase about this fraudulent charge and b. ) an explanation of exactly why it was denied and deemed that I received a benefit. \\n\\nAfter not hearing back from Chase, I sent another email to XXXX on XX/XX/XXXX to confirm that my appeal request had been received and to request a phone call or email to confirm that it had been received and let me know that the appeal was in process. \\n\\nI received a phone call from Chase \\'s fraud dispute review department on XX/XX/XXXX confirming that my appeal request had been received. The representative who I talked with told me that he believed my claim was indeed fraudulent and relayed that he didn\\'t believe the fraud department looked at the claim closely enough. He said that they never requested a receipt from the vendor ( XXXX XXXX ) to compare the signature with other receipts on file and he also shared that there were two successive charges in two  different counties in XXXX that they didn\\'t take into account when reviewing it because I couldn\\'t possibly be in two places at once. I also continued to request to see the receipt for the fraudulent charge, receipts for all other charges on XX/XX/XXXX, and the report that detailed the denial of the fraudulent claim. As of XX/XX/XXXX, Chase refuses to send me this information about my fraudulent charge claim, and I believe I have a right to see this as a Chase customer. \\n\\nOn XX/XX/XXXX, I received notice that my appeal of my fraudulent charge dispute had been denied, meaning that Chase is holding me responsible to pay the {$5500.00} fraudulent charge. It is at this point that I am filing a complaint with the CFPB.',\n",
              "        b'I deposited a client check in the amount of {$10000.00} and funds were transferred from XXXX XXXX  to Wells Fargo on XX/XX/XXXX. Wells Fargo has put a hold on the funds until XX/XX/XXXX. They have given me a range of excuses such as there were not sufficient funds in the payees account to a suspicious signature. I have asked Wells Fargo to contact the XXXX XXXX   employee that handles the account and XXXX XXXX continues to refuse to release the funds to my account. This appears to be yet another Wells Fargo scam. They are holding my funds and earning interest from XX/XX/XXXX to XX/XX/XXXX. I have full documentation.'],\n",
              "       dtype=object)>, <tf.Tensor: shape=(5, 6), dtype=float32, numpy=\n",
              " array([[0., 0., 0., 1., 0., 0.],\n",
              "        [1., 0., 0., 0., 0., 0.],\n",
              "        [1., 0., 0., 0., 0., 0.],\n",
              "        [0., 1., 0., 0., 0., 0.],\n",
              "        [0., 0., 0., 1., 0., 0.]], dtype=float32)>)"
            ]
          },
          "metadata": {
            "tags": []
          },
          "execution_count": 75
        }
      ]
    },
    {
      "cell_type": "code",
      "metadata": {
        "colab": {
          "base_uri": "https://localhost:8080/"
        },
        "id": "uMo-PNftbeem",
        "outputId": "268d0f2f-b38e-4e06-d6e1-1380c5269e54"
      },
      "source": [
        "embedding = \"https://tfhub.dev/google/tf2-preview/nnlm-en-dim128/1\"\r\n",
        "hub_layer = hub.KerasLayer(embedding, output_shape=[128], input_shape=[], \r\n",
        "                           dtype=tf.string, trainable=True)\r\n",
        "hub_layer(train_data[:1])"
      ],
      "execution_count": 76,
      "outputs": [
        {
          "output_type": "execute_result",
          "data": {
            "text/plain": [
              "<tf.Tensor: shape=(1, 128), dtype=float32, numpy=\n",
              "array([[ 1.92570090e+00,  1.04540564e-01,  1.63910031e-01,\n",
              "        -1.11070231e-01, -5.49944043e-02,  7.91307315e-02,\n",
              "         4.86127660e-02,  2.75555283e-01, -8.30120146e-02,\n",
              "         1.80027023e-01,  1.44885316e-01, -1.59288287e-01,\n",
              "        -1.94997236e-01, -4.00722414e-01, -1.37285963e-01,\n",
              "         3.61927778e-01, -3.39035988e-01, -3.47756073e-02,\n",
              "        -6.16503179e-01,  1.44515026e+00,  3.19949985e-01,\n",
              "         3.94565135e-01, -3.26071948e-01,  2.14843497e-01,\n",
              "        -3.63146365e-02, -4.13899511e-01,  1.67138502e-01,\n",
              "        -5.15444636e-01, -1.83536708e-01,  3.90481912e-02,\n",
              "         9.09547061e-02, -2.18187377e-01,  1.16193175e-01,\n",
              "        -2.13140637e-01,  2.62742490e-01,  3.77820075e-01,\n",
              "        -2.58993626e-01, -5.08686364e-01, -2.61283755e-01,\n",
              "        -5.75724877e-02,  5.14812469e-02, -1.78749681e-01,\n",
              "        -8.78547728e-02, -5.78522384e-01,  3.56190205e-01,\n",
              "         3.41897160e-01, -3.03279817e-01, -3.03550176e-02,\n",
              "        -4.70123470e-01, -6.96404815e-01,  1.62134487e-02,\n",
              "        -3.87831405e-02,  6.85421228e-02,  1.98899955e-01,\n",
              "        -7.82101810e-01, -1.35865554e-01, -1.31267518e-01,\n",
              "         1.27851665e-01,  1.52239844e-01, -6.36673495e-02,\n",
              "        -5.62574565e-01,  1.91325899e-02,  3.62875342e-01,\n",
              "        -6.03927970e-02, -2.69309342e-01,  1.28497675e-01,\n",
              "        -1.49441198e-01, -3.01388532e-01, -1.52954683e-01,\n",
              "        -3.83431196e-01,  2.21330807e-01, -1.67852506e-01,\n",
              "         3.89674446e-04,  3.65042575e-02,  4.15654242e-01,\n",
              "         1.34781197e-01, -2.18334168e-01, -7.22495019e-01,\n",
              "        -1.58712074e-01, -1.74010061e-02,  3.06339294e-01,\n",
              "        -5.35981134e-02,  4.18226235e-02,  2.28714302e-01,\n",
              "         7.09751621e-02, -1.26337364e-01, -2.77076334e-01,\n",
              "         1.18260644e-01,  1.11755562e+00,  7.18856454e-01,\n",
              "        -3.11814666e-01,  2.28470713e-01, -1.82997324e-02,\n",
              "        -8.61904323e-01,  3.73503327e-01,  1.84735581e-01,\n",
              "         2.92017497e-02, -3.68890353e-02, -6.15575194e-01,\n",
              "         4.54581738e-01, -1.55454516e-01,  1.36230350e-01,\n",
              "        -1.23098336e-01,  1.63286954e-01, -1.19803384e-01,\n",
              "         1.46758646e-01,  1.66010574e-01, -5.56072772e-01,\n",
              "        -2.62751460e-01,  1.49585783e-01, -1.43142784e+00,\n",
              "        -2.67757148e-01, -2.60787487e-01, -5.25002778e-01,\n",
              "         2.55412459e-01, -5.43521106e-01,  1.06378779e-01,\n",
              "         5.77819467e-01, -2.61732899e-02,  5.84780760e-02,\n",
              "         4.17428136e-01, -3.53781693e-02,  3.45459767e-02,\n",
              "         1.40228033e-01, -5.39429858e-02,  5.79532623e-01,\n",
              "        -1.59285054e-01,  4.09487247e-01]], dtype=float32)>"
            ]
          },
          "metadata": {
            "tags": []
          },
          "execution_count": 76
        }
      ]
    },
    {
      "cell_type": "code",
      "metadata": {
        "colab": {
          "base_uri": "https://localhost:8080/"
        },
        "id": "vhRWJLc-bl7c",
        "outputId": "7c3334ae-dd52-42f1-835f-18754eab35cc"
      },
      "source": [
        "model = tf.keras.Sequential()\r\n",
        "model.add(hub_layer)\r\n",
        "for units in [128, 128, 64 , 32]:\r\n",
        "  model.add(tf.keras.layers.Dense(units, activation='relu'))\r\n",
        "  model.add(tf.keras.layers.Dropout(0.3))\r\n",
        "model.add(tf.keras.layers.Dense(6, activation='softmax'))\r\n",
        "\r\n",
        "model.summary()"
      ],
      "execution_count": 77,
      "outputs": [
        {
          "output_type": "stream",
          "text": [
            "Model: \"sequential\"\n",
            "_________________________________________________________________\n",
            "Layer (type)                 Output Shape              Param #   \n",
            "=================================================================\n",
            "keras_layer (KerasLayer)     (None, 128)               124642688 \n",
            "_________________________________________________________________\n",
            "dense (Dense)                (None, 128)               16512     \n",
            "_________________________________________________________________\n",
            "dropout (Dropout)            (None, 128)               0         \n",
            "_________________________________________________________________\n",
            "dense_1 (Dense)              (None, 128)               16512     \n",
            "_________________________________________________________________\n",
            "dropout_1 (Dropout)          (None, 128)               0         \n",
            "_________________________________________________________________\n",
            "dense_2 (Dense)              (None, 64)                8256      \n",
            "_________________________________________________________________\n",
            "dropout_2 (Dropout)          (None, 64)                0         \n",
            "_________________________________________________________________\n",
            "dense_3 (Dense)              (None, 32)                2080      \n",
            "_________________________________________________________________\n",
            "dropout_3 (Dropout)          (None, 32)                0         \n",
            "_________________________________________________________________\n",
            "dense_4 (Dense)              (None, 6)                 198       \n",
            "=================================================================\n",
            "Total params: 124,686,246\n",
            "Trainable params: 124,686,246\n",
            "Non-trainable params: 0\n",
            "_________________________________________________________________\n"
          ],
          "name": "stdout"
        }
      ]
    },
    {
      "cell_type": "code",
      "metadata": {
        "id": "U4tK2k73brOH"
      },
      "source": [
        "model.compile(optimizer='adam',\r\n",
        "              loss=tf.keras.losses.CategoricalCrossentropy(from_logits=True),\r\n",
        "              metrics=['accuracy'])"
      ],
      "execution_count": 78,
      "outputs": []
    },
    {
      "cell_type": "code",
      "metadata": {
        "id": "_W2AZ6A1bvpC"
      },
      "source": [
        "train_data_f=train_data_f.shuffle(70000).batch(512)\r\n",
        "test_data_f=test_data_f.batch(512)"
      ],
      "execution_count": 79,
      "outputs": []
    },
    {
      "cell_type": "code",
      "metadata": {
        "colab": {
          "base_uri": "https://localhost:8080/"
        },
        "id": "kUi9PYhWbyNL",
        "outputId": "27f5a443-1f80-41c3-bbd2-e82c0bf7b978"
      },
      "source": [
        "history = model.fit(train_data_f,\r\n",
        "                    epochs=10,\r\n",
        "                    validation_data=test_data_f,\r\n",
        "                    verbose=1,\r\n",
        "                    class_weight=weights)"
      ],
      "execution_count": 80,
      "outputs": [
        {
          "output_type": "stream",
          "text": [
            "Epoch 1/10\n",
            "90/90 [==============================] - 11s 96ms/step - loss: 1.6938 - accuracy: 0.2615 - val_loss: 0.6304 - val_accuracy: 0.8218\n",
            "Epoch 2/10\n",
            "90/90 [==============================] - 9s 95ms/step - loss: 0.6937 - accuracy: 0.7969 - val_loss: 0.4721 - val_accuracy: 0.8595\n",
            "Epoch 3/10\n",
            "90/90 [==============================] - 10s 95ms/step - loss: 0.3886 - accuracy: 0.8788 - val_loss: 0.4321 - val_accuracy: 0.8776\n",
            "Epoch 4/10\n",
            "90/90 [==============================] - 9s 94ms/step - loss: 0.2930 - accuracy: 0.9083 - val_loss: 0.4281 - val_accuracy: 0.8819\n",
            "Epoch 5/10\n",
            "90/90 [==============================] - 9s 94ms/step - loss: 0.2316 - accuracy: 0.9262 - val_loss: 0.4569 - val_accuracy: 0.8770\n",
            "Epoch 6/10\n",
            "90/90 [==============================] - 10s 94ms/step - loss: 0.1930 - accuracy: 0.9382 - val_loss: 0.4953 - val_accuracy: 0.8742\n",
            "Epoch 7/10\n",
            "90/90 [==============================] - 9s 94ms/step - loss: 0.1659 - accuracy: 0.9476 - val_loss: 0.5326 - val_accuracy: 0.8740\n",
            "Epoch 8/10\n",
            "90/90 [==============================] - 9s 95ms/step - loss: 0.1327 - accuracy: 0.9557 - val_loss: 0.5489 - val_accuracy: 0.8756\n",
            "Epoch 9/10\n",
            "90/90 [==============================] - 9s 96ms/step - loss: 0.1155 - accuracy: 0.9605 - val_loss: 0.5639 - val_accuracy: 0.8735\n",
            "Epoch 10/10\n",
            "90/90 [==============================] - 9s 95ms/step - loss: 0.1096 - accuracy: 0.9641 - val_loss: 0.6338 - val_accuracy: 0.8669\n"
          ],
          "name": "stdout"
        }
      ]
    },
    {
      "cell_type": "code",
      "metadata": {
        "colab": {
          "base_uri": "https://localhost:8080/"
        },
        "id": "o1wtNog9b2rY",
        "outputId": "a83af9e3-21e6-4249-bca5-9cdb47c15b75"
      },
      "source": [
        "results = model.evaluate(dataset_test.map(fetch).batch(11491), verbose=2)\r\n",
        "\r\n",
        "print(results)"
      ],
      "execution_count": 82,
      "outputs": [
        {
          "output_type": "stream",
          "text": [
            "1/1 - 1s - loss: 0.6338 - accuracy: 0.8669\n",
            "[0.6338274478912354, 0.8669393658638]\n"
          ],
          "name": "stdout"
        }
      ]
    },
    {
      "cell_type": "code",
      "metadata": {
        "id": "Mdr5IzJocPN-"
      },
      "source": [
        "test_data, test_labels = next(iter(dataset_test.map(fetch).batch(45963)))"
      ],
      "execution_count": 83,
      "outputs": []
    },
    {
      "cell_type": "code",
      "metadata": {
        "id": "5ceGzfQzcbyU"
      },
      "source": [
        "y_pred=model.predict(test_data)"
      ],
      "execution_count": 84,
      "outputs": []
    },
    {
      "cell_type": "code",
      "metadata": {
        "colab": {
          "base_uri": "https://localhost:8080/"
        },
        "id": "DppL2rG7cfK-",
        "outputId": "c4c9fb31-e217-4c61-daf5-0a62a783bc97"
      },
      "source": [
        "from sklearn.metrics import confusion_matrix\r\n",
        "confusion_matrix(test_labels.numpy().argmax(axis=1), y_pred.argmax(axis=1))"
      ],
      "execution_count": 85,
      "outputs": [
        {
          "output_type": "execute_result",
          "data": {
            "text/plain": [
              "array([[3765,  189,   72,   70,   84,  115],\n",
              "       [ 109, 2158,   22,  201,   40,   53],\n",
              "       [  41,   20, 1850,   38,   33,   33],\n",
              "       [  24,  142,   29, 1251,    4,   11],\n",
              "       [  32,   17,   20,    3,  524,   15],\n",
              "       [  30,   20,   24,   17,   21,  414]])"
            ]
          },
          "metadata": {
            "tags": []
          },
          "execution_count": 85
        }
      ]
    },
    {
      "cell_type": "code",
      "metadata": {
        "id": "llfMztjkckZg"
      },
      "source": [
        ""
      ],
      "execution_count": null,
      "outputs": []
    }
  ]
}